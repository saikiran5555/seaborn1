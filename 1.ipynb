{
 "cells": [
  {
   "cell_type": "markdown",
   "id": "f7f64a52",
   "metadata": {},
   "source": [
    "Seaborn is a powerful Python data visualization library that can be used to create a wide variety of plots for exploring and presenting data. Here are five common types of plots you can create using Seaborn, along with their typical use cases:\n",
    "\n",
    "Scatter Plot:\n",
    "\n",
    "Use: Scatter plots are used to visualize the relationship between two continuous variables. They are useful for identifying patterns, trends, and outliers in data.\n",
    "Seaborn Function: sns.scatterplot()\n",
    "Histogram:\n",
    "\n",
    "Use: Histograms are used to display the distribution of a single continuous variable. They help you understand the data's central tendency and spread.\n",
    "Seaborn Function: sns.histplot() or sns.distplot() (for older versions of Seaborn)\n",
    "Bar Plot:\n",
    "\n",
    "Use: Bar plots are used to compare categorical data or to display the relationship between one categorical and one continuous variable. They are useful for showing counts, frequencies, or aggregated values.\n",
    "Seaborn Function: sns.barplot() or sns.countplot()\n",
    "Box Plot (Box-and-Whisker Plot):\n",
    "\n",
    "Use: Box plots are used to visualize the distribution of a continuous variable, showing key summary statistics such as the median, quartiles, and potential outliers. They are particularly helpful for identifying skewness and outliers.\n",
    "Seaborn Function: sns.boxplot()\n",
    "Heatmap:\n",
    "\n",
    "Use: Heatmaps are used to visualize the pairwise relationships between variables in a dataset. They are often employed to explore correlations between features in a dataset, making them useful for feature selection and understanding multicollinearity in data.\n",
    "Seaborn Function: sns.heatmap()"
   ]
  }
 ],
 "metadata": {
  "kernelspec": {
   "display_name": "Python 3 (ipykernel)",
   "language": "python",
   "name": "python3"
  },
  "language_info": {
   "codemirror_mode": {
    "name": "ipython",
    "version": 3
   },
   "file_extension": ".py",
   "mimetype": "text/x-python",
   "name": "python",
   "nbconvert_exporter": "python",
   "pygments_lexer": "ipython3",
   "version": "3.10.9"
  }
 },
 "nbformat": 4,
 "nbformat_minor": 5
}

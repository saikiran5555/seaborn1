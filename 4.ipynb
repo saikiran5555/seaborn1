{
 "cells": [
  {
   "cell_type": "code",
   "execution_count": null,
   "id": "336d30ac",
   "metadata": {},
   "outputs": [],
   "source": [
    "import seaborn as sns\n",
    "import matplotlib.pyplot as plt\n",
    "\n",
    "# Load the \"diamonds\" dataset\n",
    "diamonds_data = sns.load_dataset(\"diamonds\")\n",
    "\n",
    "# Create a histogram with hue for 'cut'\n",
    "plt.figure(figsize=(10, 6))  # Set the figure size\n",
    "\n",
    "# Use Seaborn's histplot to create the histogram with hue\n",
    "sns.histplot(data=diamonds_data, x=\"price\", hue=\"cut\", bins=30, multiple=\"stack\", palette=\"Set1\")\n",
    "\n",
    "# Add labels and a legend\n",
    "plt.xlabel(\"Price\")\n",
    "plt.ylabel(\"Frequency\")\n",
    "plt.title(\"Price Distribution of Diamonds by Cut\")\n",
    "plt.legend(title=\"Cut\")\n",
    "\n",
    "# Show the plot\n",
    "plt.show()\n"
   ]
  },
  {
   "cell_type": "markdown",
   "id": "3bcbd6ee",
   "metadata": {},
   "source": [
    "In this code:\n",
    "\n",
    "We load the \"diamonds\" dataset using sns.load_dataset(\"diamonds\").\n",
    "We create a histogram using sns.histplot(), specifying \"price\" as the x-axis variable, \"cut\" as the hue variable, and using the multiple=\"stack\" parameter to stack the histograms for different 'cut' categories.\n",
    "We set the number of bins to 30 using the bins parameter.\n",
    "Labels, a title, and a legend are added to the plot for clarity.\n",
    "Finally, we use plt.show() to display the histogram.\n",
    "This code will generate a histogram of the 'price' distribution for diamonds, with different 'cut' categories distinguished by different colors."
   ]
  }
 ],
 "metadata": {
  "kernelspec": {
   "display_name": "Python 3 (ipykernel)",
   "language": "python",
   "name": "python3"
  },
  "language_info": {
   "codemirror_mode": {
    "name": "ipython",
    "version": 3
   },
   "file_extension": ".py",
   "mimetype": "text/x-python",
   "name": "python",
   "nbconvert_exporter": "python",
   "pygments_lexer": "ipython3",
   "version": "3.10.9"
  }
 },
 "nbformat": 4,
 "nbformat_minor": 5
}

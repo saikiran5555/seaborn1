{
 "cells": [
  {
   "cell_type": "code",
   "execution_count": null,
   "id": "e123fc74",
   "metadata": {},
   "outputs": [],
   "source": [
    "import seaborn as sns\n",
    "import matplotlib.pyplot as plt\n",
    "\n",
    "# Load the \"iris\" dataset\n",
    "iris_data = sns.load_dataset(\"iris\")\n",
    "\n",
    "# Create a pair plot with hue for 'species'\n",
    "sns.set(style=\"ticks\")\n",
    "sns.pairplot(data=iris_data, hue=\"species\", markers=[\"o\", \"s\", \"D\"])\n",
    "\n",
    "# Show the plot\n",
    "plt.show()\n"
   ]
  },
  {
   "cell_type": "markdown",
   "id": "2eb962c5",
   "metadata": {},
   "source": [
    "In this code:\n",
    "\n",
    "We load the \"iris\" dataset using sns.load_dataset(\"iris\").\n",
    "We set the Seaborn style to \"ticks\" using sns.set(style=\"ticks\"). This style choice adds ticks to the axes and makes the plot look cleaner.\n",
    "We use sns.pairplot() to create the pair plot, specifying \"species\" as the hue variable. The markers parameter is used to customize the markers for each species.\n",
    "Finally, we use plt.show() to display the pair plot.\n",
    "This code will generate a pair plot of the \"iris\" dataset, where different species (\"setosa,\" \"versicolor,\" and \"virginica\") are distinguished by different colors and markers. The pair plot allows you to visualize the relationships between pairs of variables for each species."
   ]
  }
 ],
 "metadata": {
  "kernelspec": {
   "display_name": "Python 3 (ipykernel)",
   "language": "python",
   "name": "python3"
  },
  "language_info": {
   "codemirror_mode": {
    "name": "ipython",
    "version": 3
   },
   "file_extension": ".py",
   "mimetype": "text/x-python",
   "name": "python",
   "nbconvert_exporter": "python",
   "pygments_lexer": "ipython3",
   "version": "3.10.9"
  }
 },
 "nbformat": 4,
 "nbformat_minor": 5
}

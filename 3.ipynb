{
 "cells": [
  {
   "cell_type": "code",
   "execution_count": null,
   "id": "1703572c",
   "metadata": {},
   "outputs": [],
   "source": [
    "import seaborn as sns\n",
    "import matplotlib.pyplot as plt\n",
    "\n",
    "# Load the \"titanic\" dataset\n",
    "titanic_data = sns.load_dataset(\"titanic\")\n",
    "\n",
    "# Create a box plot for 'age' by 'pclass'\n",
    "plt.figure(figsize=(12, 6))  # Set the figure size\n",
    "plt.subplot(1, 2, 1)  # Create the first subplot\n",
    "sns.boxplot(data=titanic_data, x='pclass', y='age')\n",
    "plt.xlabel('Pclass')\n",
    "plt.ylabel('Age')\n",
    "plt.title('Age Distribution by Pclass')\n",
    "\n",
    "# Create a box plot for 'fare' by 'pclass'\n",
    "plt.subplot(1, 2, 2)  # Create the second subplot\n",
    "sns.boxplot(data=titanic_data, x='pclass', y='fare')\n",
    "plt.xlabel('Pclass')\n",
    "plt.ylabel('Fare')\n",
    "plt.title('Fare Distribution by Pclass')\n",
    "\n",
    "# Adjust spacing between subplots\n",
    "plt.tight_layout()\n",
    "\n",
    "# Show the plots\n",
    "plt.show()\n"
   ]
  },
  {
   "cell_type": "markdown",
   "id": "4759ed06",
   "metadata": {},
   "source": [
    "In this code:\n",
    "\n",
    "We load the \"titanic\" dataset using sns.load_dataset(\"titanic\").\n",
    "We create two subplots using plt.subplot(), one for the 'age' box plot and one for the 'fare' box plot.\n",
    "For each subplot, we use sns.boxplot() to create the box plot, specifying 'pclass' on the x-axis and 'age' or 'fare' on the y-axis.\n",
    "We set labels, titles, and adjust the spacing between subplots using plt.xlabel(), plt.ylabel(), plt.title(), and plt.tight_layout().\n",
    "Finally, we use plt.show() to display both box plots side by side.\n",
    "This code will generate two box plots, one showing the distribution of 'age' by 'pclass' and the other showing the distribution of 'fare' by 'pclass' in the \"titanic\" dataset."
   ]
  }
 ],
 "metadata": {
  "kernelspec": {
   "display_name": "Python 3 (ipykernel)",
   "language": "python",
   "name": "python3"
  },
  "language_info": {
   "codemirror_mode": {
    "name": "ipython",
    "version": 3
   },
   "file_extension": ".py",
   "mimetype": "text/x-python",
   "name": "python",
   "nbconvert_exporter": "python",
   "pygments_lexer": "ipython3",
   "version": "3.10.9"
  }
 },
 "nbformat": 4,
 "nbformat_minor": 5
}

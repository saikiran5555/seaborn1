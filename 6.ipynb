{
 "cells": [
  {
   "cell_type": "code",
   "execution_count": null,
   "id": "109d95de",
   "metadata": {},
   "outputs": [],
   "source": [
    "import seaborn as sns\n",
    "import matplotlib.pyplot as plt\n",
    "\n",
    "# Load the \"flights\" dataset\n",
    "flights_data = sns.load_dataset(\"flights\")\n",
    "\n",
    "# Pivot the dataset to create a matrix suitable for a heatmap\n",
    "flights_pivot = flights_data.pivot_table(index='month', columns='year', values='passengers')\n",
    "\n",
    "# Create a heatmap\n",
    "plt.figure(figsize=(10, 6))  # Set the figure size\n",
    "sns.heatmap(data=flights_pivot, cmap=\"YlGnBu\", annot=True, fmt=\"d\", linewidths=0.5)\n",
    "\n",
    "# Add labels and a title\n",
    "plt.xlabel(\"Year\")\n",
    "plt.ylabel(\"Month\")\n",
    "plt.title(\"Passenger Count Heatmap (Flights)\")\n",
    "\n",
    "# Show the plot\n",
    "plt.show()\n"
   ]
  },
  {
   "cell_type": "markdown",
   "id": "6339948b",
   "metadata": {},
   "source": [
    "In this code:\n",
    "\n",
    "We load the \"flights\" dataset using sns.load_dataset(\"flights\"), which contains information about the number of passengers traveling in different months and years.\n",
    "\n",
    "We pivot the dataset using pivot_table() to create a matrix suitable for a heatmap, with months on the y-axis and years on the x-axis.\n",
    "\n",
    "We create the heatmap using sns.heatmap(), specifying the data as the pivoted dataset (flights_pivot). We choose a colormap (cmap) for the heatmap, annotate the cells with passenger counts (annot=True), format the annotations as integers (fmt=\"d\"), and add small linewidths to separate the cells for better visualization (linewidths=0.5).\n",
    "\n",
    "We add labels to the x-axis and y-axis and provide a title for the heatmap.\n",
    "\n",
    "Finally, we use plt.show() to display the heatmap.\n",
    "\n",
    "This code will generate a heatmap that visualizes the passenger count data from the \"flights\" dataset, showing how passenger counts vary across months and years."
   ]
  }
 ],
 "metadata": {
  "kernelspec": {
   "display_name": "Python 3 (ipykernel)",
   "language": "python",
   "name": "python3"
  },
  "language_info": {
   "codemirror_mode": {
    "name": "ipython",
    "version": 3
   },
   "file_extension": ".py",
   "mimetype": "text/x-python",
   "name": "python",
   "nbconvert_exporter": "python",
   "pygments_lexer": "ipython3",
   "version": "3.10.9"
  }
 },
 "nbformat": 4,
 "nbformat_minor": 5
}

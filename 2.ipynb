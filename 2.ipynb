{
 "cells": [
  {
   "cell_type": "code",
   "execution_count": null,
   "id": "d9e276dd",
   "metadata": {},
   "outputs": [],
   "source": [
    "import seaborn as sns\n",
    "import matplotlib.pyplot as plt\n",
    "\n",
    "# Load the \"fmri\" dataset\n",
    "fmri_data = sns.load_dataset(\"fmri\")\n",
    "\n",
    "# Create a line plot using Seaborn\n",
    "plt.figure(figsize=(10, 6))  # Set the figure size\n",
    "\n",
    "# Use Seaborn's lineplot to create the plot\n",
    "sns.lineplot(data=fmri_data, x=\"timepoint\", y=\"signal\", hue=\"event\", style=\"region\")\n",
    "\n",
    "# Add labels and a legend\n",
    "plt.xlabel(\"Timepoint\")\n",
    "plt.ylabel(\"Signal\")\n",
    "plt.title(\"FMRI Signal Over Time by Event and Region\")\n",
    "plt.legend(title=\"Event\", loc=\"upper right\")\n",
    "\n",
    "# Show the plot\n",
    "plt.show()\n"
   ]
  },
  {
   "cell_type": "markdown",
   "id": "c20d3793",
   "metadata": {},
   "source": [
    "In this code:\n",
    "\n",
    "We load the \"fmri\" dataset using sns.load_dataset(\"fmri\").\n",
    "We create a line plot using sns.lineplot(), specifying \"timepoint\" as the x-axis variable, \"signal\" as the y-axis variable, and using the \"event\" column for color differentiation and the \"region\" column for line style differentiation.\n",
    "We add labels to the x-axis and y-axis, set a title for the plot, and add a legend to distinguish different events.\n",
    "Finally, we use plt.show() to display the plot.\n",
    "This code will generate a line plot that shows how the \"signal\" changes over \"timepoint\" for different \"events\" and \"regions\" in the \"fmri\" dataset."
   ]
  }
 ],
 "metadata": {
  "kernelspec": {
   "display_name": "Python 3 (ipykernel)",
   "language": "python",
   "name": "python3"
  },
  "language_info": {
   "codemirror_mode": {
    "name": "ipython",
    "version": 3
   },
   "file_extension": ".py",
   "mimetype": "text/x-python",
   "name": "python",
   "nbconvert_exporter": "python",
   "pygments_lexer": "ipython3",
   "version": "3.10.9"
  }
 },
 "nbformat": 4,
 "nbformat_minor": 5
}
